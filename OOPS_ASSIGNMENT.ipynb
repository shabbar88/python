{
  "nbformat": 4,
  "nbformat_minor": 0,
  "metadata": {
    "colab": {
      "provenance": [],
      "authorship_tag": "ABX9TyMkbKw41tJ7tqdn3Y2X2CNU",
      "include_colab_link": true
    },
    "kernelspec": {
      "name": "python3",
      "display_name": "Python 3"
    },
    "language_info": {
      "name": "python"
    }
  },
  "cells": [
    {
      "cell_type": "markdown",
      "metadata": {
        "id": "view-in-github",
        "colab_type": "text"
      },
      "source": [
        "<a href=\"https://colab.research.google.com/github/shabbar88/python/blob/main/OOPS_ASSIGNMENT.ipynb\" target=\"_parent\"><img src=\"https://colab.research.google.com/assets/colab-badge.svg\" alt=\"Open In Colab\"/></a>"
      ]
    },
    {
      "cell_type": "code",
      "execution_count": 1,
      "metadata": {
        "colab": {
          "base_uri": "https://localhost:8080/",
          "height": 104
        },
        "id": "PO7_R45Mshcs",
        "outputId": "0fc8b74e-f098-4199-e4c0-d8ebf1a4b4e5"
      },
      "outputs": [
        {
          "output_type": "execute_result",
          "data": {
            "text/plain": [
              "'\\nQ1. Write a Python program to demonstrate multiple inheritance.\\n1. Employee class has 3 data members EmployeeID, Gender (String), Salary and\\nPerformanceRating(Out of 5) of type int. It has a get() function to get these details from\\nthe user.\\n2. JoiningDetail class has a data member DateOfJoining of type Date and a function\\ngetDoJ to get the Date of joining of employees.\\n3. Information Class uses the marks from Employee class and the DateOfJoining date\\nfrom the JoiningDetail class to calculate the top 3 Employees based on their Ratings\\nand then Display, using readData, all the details on these employees in Ascending\\norder of their Date Of Joining.\\n\\n'"
            ],
            "application/vnd.google.colaboratory.intrinsic+json": {
              "type": "string"
            }
          },
          "metadata": {},
          "execution_count": 1
        }
      ],
      "source": [
        "\"\"\"\n",
        "Q1. Write a Python program to demonstrate multiple inheritance.\n",
        "1. Employee class has 3 data members EmployeeID, Gender (String), Salary and\n",
        "PerformanceRating(Out of 5) of type int. It has a get() function to get these details from\n",
        "the user.\n",
        "2. JoiningDetail class has a data member DateOfJoining of type Date and a function\n",
        "getDoJ to get the Date of joining of employees.\n",
        "3. Information Class uses the marks from Employee class and the DateOfJoining date\n",
        "from the JoiningDetail class to calculate the top 3 Employees based on their Ratings\n",
        "and then Display, using readData, all the details on these employees in Ascending\n",
        "order of their Date Of Joining.\n",
        "\n",
        "\"\"\""
      ]
    },
    {
      "cell_type": "code",
      "source": [
        "class Employee():\n",
        "  def __init__(Self,EmployeeID,Gender,Salary,PerformanceRating):\n",
        "    Self.EmployeeID=EmployeeID\n",
        "    Self.Gender=Gender\n",
        "    Self.Salary=Salary\n",
        "    Self.PerforanceRating=PerformanceRating\n",
        "\n",
        "  def __str__(Self):\n",
        "    return Self.PerformanceRating\n",
        "  def get(Self):\n",
        "    return\"EmplyeeID: {}\\nGender:{} \\n Salary: {} \\n PerformanceRating:{}\".format(Self.EmployeeID,Self.Gender,Self.Salary,Self.PerforanceRating)\n"
      ],
      "metadata": {
        "id": "R6Ixm1westGq"
      },
      "execution_count": 2,
      "outputs": []
    },
    {
      "cell_type": "code",
      "source": [
        "class JoiningDetail(Employee):\n",
        "  def __init__(Self,EmployeeID,Gender,Salary,PerformanceRating,DateOfJoining):\n",
        "    Self.DateOfJoining=DateOfJoining\n",
        "    Employee.__init__(Self,EmployeeID,Gender,Salary,PerformanceRating)\n",
        "   \n",
        "\n",
        "  def getDOJ(Self):\n",
        "    return Self.DateOfJoining"
      ],
      "metadata": {
        "id": "Ev4EMABa9IwS"
      },
      "execution_count": 8,
      "outputs": []
    },
    {
      "cell_type": "code",
      "source": [
        "from datetime import date\n",
        "class Information():\n",
        "  \n",
        "  \n",
        "  # taking input from the user\n",
        "  emp_id=input(\"enter employee id.....\")\n",
        "  emp_gender=input(\"enter employee gender type Male/Female.....\")\n",
        "  emp_sal=int(input(\"Enter employee salary in rs..............\"))\n",
        "  emp_rating=int(input(\"Enter Employee Rating Out of 5........\"))\n",
        "  \n",
        " \n",
        "  year=int(input(\"Enter year....................................\"))\n",
        "  month=int(input(\"Enter month...............................   \"))\n",
        "  day=int(input(\"Enter day .....................................\"))\n",
        "  d=date(year,month,day)\n",
        "\n",
        "  joining1=JoiningDetail(emp_id,emp_gender,emp_sal,emp_rating,d.strftime(\"%d-%b-%Y\"))\n",
        "  \n",
        "  emp_id=input(\"enter employee id.....\")\n",
        "  emp_gender=input(\"enter employee gender type Male/Female.....\")\n",
        "  emp_sal=int(input(\"Enter employee salary in rs..............\"))\n",
        "  emp_rating=int(input(\"Enter Employee Rating Out of 5........\"))\n",
        "\n",
        " \n",
        "  year=int(input(\"Enter year....................................\"))\n",
        "  month=int(input(\"Enter month...............................   \"))\n",
        "  day=int(input(\"Enter day .....................................\"))\n",
        "  d=date(year,month,day)\n",
        "  joining2=JoiningDetail(emp_id,emp_gender,emp_sal,emp_rating,d.strftime(\"%d-%b-%Y\"))\n",
        "\n",
        "\n",
        "  emp_id=input(\"enter employee id.....\")\n",
        "  emp_gender=input(\"enter employee gender type Male/Female.....\")\n",
        "  emp_sal=int(input(\"Enter employee salary in rs..............\"))\n",
        "  emp_rating=int(input(\"Enter Employee Rating Out of 5........\"))\n",
        "\n",
        " \n",
        "  year=int(input(\"Enter year....................................\"))\n",
        "  month=int(input(\"Enter month...............................   \"))\n",
        "  day=int(input(\"Enter day .....................................\"))\n",
        "  d=date(year,month,day)\n",
        "  joining3=JoiningDetail(emp_id,emp_gender,emp_sal,emp_rating,d.strftime(\"%d-%b-%Y\"))\n",
        "\n",
        "  \n",
        "  emp_id=input(\"enter employee id.....\")\n",
        "  emp_gender=input(\"enter employee gender type Male/Female.....\")\n",
        "  emp_sal=int(input(\"Enter employee salary in rs..............\"))\n",
        "  emp_rating=int(input(\"Enter Employee Rating Out of 5........\"))\n",
        "\n",
        " \n",
        "  year=int(input(\"Enter year....................................\"))\n",
        "  month=int(input(\"Enter month...............................   \"))\n",
        "  day=int(input(\"Enter day .....................................\"))\n",
        "  d=date(year,month,day)\n",
        "  joining4=JoiningDetail(emp_id,emp_gender,emp_sal,emp_rating,d.strftime(\"%d-%b-%Y\"))\n",
        "\n",
        "\n",
        "  emp_id=input(\"enter employee id.....\")\n",
        "  emp_gender=input(\"enter employee gender type Male/Female.....\")\n",
        "  emp_sal=int(input(\"Enter employee salary in rs..............\"))\n",
        "  emp_rating=int(input(\"Enter Employee Rating Out of 5........\"))\n",
        "\n",
        "\n",
        " \n",
        "  year=int(input(\"Enter year....................................\"))\n",
        "  month=int(input(\"Enter month...............................   \"))\n",
        "  day=int(input(\"Enter day .....................................\"))\n",
        "  d=date(year,month,day)\n",
        "  joining5=JoiningDetail(emp_id,emp_gender,emp_sal,emp_rating,d.strftime(\"%d-%b-%Y\"))\n",
        "\n",
        "  \"\"\"\n",
        "  my_dict={'joining1.EmployeeID':[joining1.PerforanceRating,joining1.DateOfJoining],'joining2.EmployeeID':[joining2.PerforanceRating,joining2.DateOfJoining],\n",
        "               'joining3.EmployeeID':[joining3.PerforanceRating,joining3.DateOfJoining],\n",
        "                'joining4.EmployeeID':[joining4.PerforanceRating,joining4.DateOfJoining],\n",
        "                'joining5.EmployeeID':[joining5.PerforanceRating,joining5.DateOfJoining]\n",
        "           }\n",
        "  value_list=[]\n",
        "  key_list=[]\n",
        "  for k,v in my_dict.items():\n",
        "    key_list.append(k)\n",
        "    value_list.append(v)\n",
        "  print(key_list)\n",
        "  print(value_list)\n",
        "\n",
        "  \"\"\"\n",
        "  my_dict={'joining1':joining1.PerforanceRating,'joining2':joining2.PerforanceRating,'joining3':joining3.PerforanceRating\n",
        "           ,'joining4':joining4.PerforanceRating,'joining5':joining5.PerforanceRating}\n",
        "  print(sorted(my_dict.items(), key=lambda kv:\n",
        "                 (kv[1], kv[0])))\n",
        "  \n",
        "  \n",
        "\n",
        "\n",
        "\n",
        "  \n",
        "\n"
      ],
      "metadata": {
        "colab": {
          "base_uri": "https://localhost:8080/"
        },
        "id": "rTSzPvQ-9Tct",
        "outputId": "eb771c16-278a-47f5-c00e-740f35559739"
      },
      "execution_count": 19,
      "outputs": [
        {
          "name": "stdout",
          "output_type": "stream",
          "text": [
            "enter employee id.....1\n",
            "enter employee gender type Male/Female.....f\n",
            "Enter employee salary in rs..............12000\n",
            "Enter Employee Rating Out of 5........4\n",
            "Enter year....................................2002\n",
            "Enter month...............................   09\n",
            "Enter day .....................................03\n",
            "enter employee id.....2\n",
            "enter employee gender type Male/Female.....f\n",
            "Enter employee salary in rs..............3333\n",
            "Enter Employee Rating Out of 5........2\n",
            "Enter year....................................2004\n",
            "Enter month...............................   02\n",
            "Enter day .....................................04\n",
            "enter employee id.....3\n",
            "enter employee gender type Male/Female.....male\n",
            "Enter employee salary in rs..............444444\n",
            "Enter Employee Rating Out of 5........4\n",
            "Enter year....................................2007\n",
            "Enter month...............................   03\n",
            "Enter day .....................................04\n",
            "enter employee id.....5\n",
            "enter employee gender type Male/Female.....m\n",
            "Enter employee salary in rs..............3333\n",
            "Enter Employee Rating Out of 5........1\n",
            "Enter year....................................2009\n",
            "Enter month...............................   03\n",
            "Enter day .....................................04\n",
            "enter employee id.....6\n",
            "enter employee gender type Male/Female.....f\n",
            "Enter employee salary in rs..............222222\n",
            "Enter Employee Rating Out of 5........3\n",
            "Enter year....................................2007\n",
            "Enter month...............................   03\n",
            "Enter day .....................................04\n"
          ]
        }
      ]
    },
    {
      "cell_type": "code",
      "source": [],
      "metadata": {
        "id": "PEsMeKmHNHVK"
      },
      "execution_count": null,
      "outputs": []
    }
  ]
}