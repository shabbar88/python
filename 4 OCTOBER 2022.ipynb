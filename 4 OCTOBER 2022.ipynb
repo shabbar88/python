{
 "cells": [
  {
   "cell_type": "markdown",
   "id": "ea67bd29",
   "metadata": {},
   "source": [
    "# EXCEPTION HANDLING\n"
   ]
  },
  {
   "cell_type": "code",
   "execution_count": 1,
   "id": "4d73f7d7",
   "metadata": {},
   "outputs": [
    {
     "data": {
      "text/plain": [
       "\"\\nfor i in ['a','b','c']:\\n    print(i**2)\\n\""
      ]
     },
     "execution_count": 1,
     "metadata": {},
     "output_type": "execute_result"
    }
   ],
   "source": [
    "\"\"\"\n",
    "for i in ['a','b','c']:\n",
    "    print(i**2)\n",
    "\"\"\""
   ]
  },
  {
   "cell_type": "code",
   "execution_count": 5,
   "id": "8b6960ec",
   "metadata": {},
   "outputs": [
    {
     "name": "stdout",
     "output_type": "stream",
     "text": [
      "some error!!\n"
     ]
    }
   ],
   "source": [
    "try:\n",
    "    for i in ['a','b','c']:\n",
    "        print(i**2)\n",
    "except TypeError:\n",
    "    print(\"some error!!\")"
   ]
  },
  {
   "cell_type": "code",
   "execution_count": 6,
   "id": "fbbe6bdf",
   "metadata": {},
   "outputs": [
    {
     "name": "stdout",
     "output_type": "stream",
     "text": [
      "some error\n",
      "All done!!\n"
     ]
    }
   ],
   "source": [
    "try:\n",
    "    x = 5\n",
    "    y = 0\n",
    "\n",
    "    z = x/y\n",
    "except ZeroDivisionError:\n",
    "    print(\"some error\")\n",
    "finally:\n",
    "    print(\"All done!!\")"
   ]
  },
  {
   "cell_type": "code",
   "execution_count": 7,
   "id": "b4dd6745",
   "metadata": {},
   "outputs": [
    {
     "data": {
      "text/plain": [
       "'\\nWrite a function that asks for an integer and prints the square of it. Use a while loop with a try, except, \\nelse block to account for incorrect inputs.\\n'"
      ]
     },
     "execution_count": 7,
     "metadata": {},
     "output_type": "execute_result"
    }
   ],
   "source": [
    "\"\"\"\n",
    "Write a function that asks for an integer and prints the square of it. Use a while loop with a try, except, \n",
    "else block to account for incorrect inputs.\n",
    "\"\"\""
   ]
  },
  {
   "cell_type": "code",
   "execution_count": 5,
   "id": "59758621",
   "metadata": {},
   "outputs": [
    {
     "name": "stdout",
     "output_type": "stream",
     "text": [
      "Enter number :dddddddddd\n",
      "whoops u did not enter number!!\n",
      "you feeded 0 and double of that is 0\n",
      "------------------------Thanks----------------------------------\n",
      "Enter number :20\n",
      "you feeded 20 and double of that is 40\n",
      "------------------------Thanks----------------------------------\n"
     ]
    }
   ],
   "source": [
    "def ask_for_int():\n",
    "    number=0\n",
    "    while True:\n",
    "        try:\n",
    "            number = int(input(\"Enter number :\"))\n",
    "        except:\n",
    "            print(\"whoops u did not enter number!!\")\n",
    "            continue\n",
    "        else:\n",
    "            break   \n",
    "        finally:\n",
    "            \n",
    "            print(\"you feeded {} and double of that is {}\".format(number,(2*number)))\n",
    "            print(\"------------------------Thanks----------------------------------\")\n",
    "            \n",
    "             \n",
    "            \n",
    "            \n",
    "            \n",
    "ask_for_int()"
   ]
  },
  {
   "cell_type": "code",
   "execution_count": null,
   "id": "d52848de",
   "metadata": {},
   "outputs": [],
   "source": []
  }
 ],
 "metadata": {
  "kernelspec": {
   "display_name": "Python 3 (ipykernel)",
   "language": "python",
   "name": "python3"
  },
  "language_info": {
   "codemirror_mode": {
    "name": "ipython",
    "version": 3
   },
   "file_extension": ".py",
   "mimetype": "text/x-python",
   "name": "python",
   "nbconvert_exporter": "python",
   "pygments_lexer": "ipython3",
   "version": "3.9.12"
  }
 },
 "nbformat": 4,
 "nbformat_minor": 5
}
