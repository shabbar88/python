{
  "nbformat": 4,
  "nbformat_minor": 0,
  "metadata": {
    "colab": {
      "provenance": [],
      "toc_visible": true,
      "authorship_tag": "ABX9TyN9EHnsizGTAIsH9WT+A/PE",
      "include_colab_link": true
    },
    "kernelspec": {
      "name": "python3",
      "display_name": "Python 3"
    },
    "language_info": {
      "name": "python"
    }
  },
  "cells": [
    {
      "cell_type": "markdown",
      "metadata": {
        "id": "view-in-github",
        "colab_type": "text"
      },
      "source": [
        "<a href=\"https://colab.research.google.com/github/shabbar88/python/blob/main/Module2_Assignment1_Loops(Self_Paced).ipynb\" target=\"_parent\"><img src=\"https://colab.research.google.com/assets/colab-badge.svg\" alt=\"Open In Colab\"/></a>"
      ]
    },
    {
      "cell_type": "code",
      "execution_count": 1,
      "metadata": {
        "colab": {
          "base_uri": "https://localhost:8080/",
          "height": 52
        },
        "id": "Sby0dPd9pTs0",
        "outputId": "462d3436-ee02-47b1-d0b8-67404773de57"
      },
      "outputs": [
        {
          "output_type": "execute_result",
          "data": {
            "text/plain": [
              "'Problem Statement:\\nYou work in XYZ Corporation as a Data Analyst. Your company has told you to work with the If\\x02Else Conditions.\\nTasks to be performed:\\n1. Print the numbers from 1 to 10 using while loop.'"
            ],
            "application/vnd.google.colaboratory.intrinsic+json": {
              "type": "string"
            }
          },
          "metadata": {},
          "execution_count": 1
        }
      ],
      "source": [
        "\"\"\"Problem Statement:\n",
        "You work in XYZ Corporation as a Data Analyst. Your company has told you to work with the If\u0002Else Conditions.\n",
        "Tasks to be performed:\n",
        "1. Print the numbers from 1 to 10 using while loop.\"\"\""
      ]
    },
    {
      "cell_type": "code",
      "source": [
        "x = 1\n",
        "while x<11:\n",
        "  print(x)\n",
        "  x+=1"
      ],
      "metadata": {
        "colab": {
          "base_uri": "https://localhost:8080/"
        },
        "id": "0hhkcokVqsC1",
        "outputId": "5c359b13-5e32-4bde-977c-6db234b43434"
      },
      "execution_count": 4,
      "outputs": [
        {
          "output_type": "stream",
          "name": "stdout",
          "text": [
            "1\n",
            "2\n",
            "3\n",
            "4\n",
            "5\n",
            "6\n",
            "7\n",
            "8\n",
            "9\n",
            "10\n"
          ]
        }
      ]
    }
  ]
}