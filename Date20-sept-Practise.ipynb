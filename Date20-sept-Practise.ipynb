{
 "cells": [
  {
   "cell_type": "markdown",
   "id": "a3b5f21d",
   "metadata": {},
   "source": [
    "# First of all we will learn about list here"
   ]
  },
  {
   "cell_type": "markdown",
   "id": "ed20924c",
   "metadata": {},
   "source": [
    "#Lists are ordered sequence that can hold a variety of object types"
   ]
  },
  {
   "cell_type": "code",
   "execution_count": 3,
   "id": "f5533d90",
   "metadata": {},
   "outputs": [
    {
     "name": "stdout",
     "output_type": "stream",
     "text": [
      "['virat', 'rohit', 'maxwell']\n"
     ]
    }
   ],
   "source": [
    "list_of_player = ['virat','rohit','maxwell']\n",
    "copy_pl= list_of_player[::]\n",
    "print(copy_pl)"
   ]
  },
  {
   "cell_type": "code",
   "execution_count": 4,
   "id": "fd0f4e60",
   "metadata": {},
   "outputs": [
    {
     "name": "stdout",
     "output_type": "stream",
     "text": [
      "['maxwell', 'rohit', 'virat']\n"
     ]
    }
   ],
   "source": [
    "rev = copy_pl[::-1]\n",
    "#by doing this reverse the content of the lists\n",
    "print(rev)"
   ]
  }
 ],
 "metadata": {
  "kernelspec": {
   "display_name": "Python 3 (ipykernel)",
   "language": "python",
   "name": "python3"
  },
  "language_info": {
   "codemirror_mode": {
    "name": "ipython",
    "version": 3
   },
   "file_extension": ".py",
   "mimetype": "text/x-python",
   "name": "python",
   "nbconvert_exporter": "python",
   "pygments_lexer": "ipython3",
   "version": "3.9.12"
  }
 },
 "nbformat": 4,
 "nbformat_minor": 5
}
