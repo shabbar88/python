{
 "cells": [
  {
   "cell_type": "markdown",
   "id": "69912884",
   "metadata": {},
   "source": [
    "# ASSESSMENT TEST"
   ]
  },
  {
   "cell_type": "code",
   "execution_count": 18,
   "id": "f1482df2",
   "metadata": {},
   "outputs": [
    {
     "name": "stdout",
     "output_type": "stream",
     "text": [
      "['shabbar', 'is', 'going', 'to', 'school']\n",
      "shabbar\n",
      "Total presence of counter is : 1\n",
      "school\n",
      "Total presence of counter is : 2\n",
      "['s', 'h', 'a', 'b', 'b', 'a', 'r']:odd\n",
      "['i', 's']:even\n",
      "['g', 'o', 'i', 'n', 'g']:odd\n",
      "['t', 'o']:even\n",
      "['s', 'c', 'h', 'o', 'o', 'l']:even\n"
     ]
    }
   ],
   "source": [
    "# question no1 \n",
    "st = \"shabbar is going to school\"\n",
    "print(st.split())\n",
    "splitted = st.split()\n",
    "counter=0\n",
    "for splitter in splitted:\n",
    "    if splitter.startswith('s'):\n",
    "        print(splitter)\n",
    "        counter+=1\n",
    "    else:\n",
    "        continue\n",
    "    print(f\"Total presence of counter is : {counter}\")\n",
    "#checking length of the words n printing\n",
    "for sp in splitted:\n",
    "    sp1 = list(sp)\n",
    "    list_counter = len(sp1)\n",
    "    if list_counter%2==0:\n",
    "        print(f\"{sp1}:even\")\n",
    "    else:\n",
    "        print(f\"{sp1}:odd\")\n",
    "   \n",
    "\n",
    "        "
   ]
  },
  {
   "cell_type": "code",
   "execution_count": 14,
   "id": "1072ecd1",
   "metadata": {},
   "outputs": [
    {
     "name": "stdout",
     "output_type": "stream",
     "text": [
      "[0, 2, 4, 6, 8, 10]\n",
      "[0, 2, 4, 6, 8, 10]\n",
      "2\n",
      "4\n",
      "6\n",
      "8\n",
      "10\n"
     ]
    }
   ],
   "source": [
    "# question no 2:\n",
    "# printing even number\n",
    "even = [x for x in range(0,11,2)]\n",
    "print(even)\n",
    "# second way\n",
    "even1 = [x for x in range(0,11) if x%2==0]\n",
    "print(even1)\n",
    "# third way \n",
    "for x1 in range(1,11):\n",
    "    if x1 % 2==0:\n",
    "        print(x1)\n",
    "    else:\n",
    "        continue\n",
    "    #print(x1)"
   ]
  },
  {
   "cell_type": "code",
   "execution_count": 6,
   "id": "c54c7025",
   "metadata": {},
   "outputs": [
    {
     "name": "stdout",
     "output_type": "stream",
     "text": [
      "['shabbar', 'do', 'this']\n",
      "['s', 'd', 't']\n"
     ]
    }
   ],
   "source": [
    "st = \"shabbar do this\"\n",
    "my = list(st.split())\n",
    "print(my)\n",
    "listwa = [x for x in my]\n",
    "listwa1 = [x1[0] for x1 in listwa]\n",
    "print(listwa1)"
   ]
  }
 ],
 "metadata": {
  "kernelspec": {
   "display_name": "Python 3 (ipykernel)",
   "language": "python",
   "name": "python3"
  },
  "language_info": {
   "codemirror_mode": {
    "name": "ipython",
    "version": 3
   },
   "file_extension": ".py",
   "mimetype": "text/x-python",
   "name": "python",
   "nbconvert_exporter": "python",
   "pygments_lexer": "ipython3",
   "version": "3.9.12"
  }
 },
 "nbformat": 4,
 "nbformat_minor": 5
}
