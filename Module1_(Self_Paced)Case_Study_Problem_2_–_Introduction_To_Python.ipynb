{
  "nbformat": 4,
  "nbformat_minor": 0,
  "metadata": {
    "colab": {
      "provenance": [],
      "authorship_tag": "ABX9TyOgT17tInC5M/iP+Q7xXjaE",
      "include_colab_link": true
    },
    "kernelspec": {
      "name": "python3",
      "display_name": "Python 3"
    },
    "language_info": {
      "name": "python"
    }
  },
  "cells": [
    {
      "cell_type": "markdown",
      "metadata": {
        "id": "view-in-github",
        "colab_type": "text"
      },
      "source": [
        "<a href=\"https://colab.research.google.com/github/shabbar88/python/blob/main/Module1_(Self_Paced)Case_Study_Problem_2_%E2%80%93_Introduction_To_Python.ipynb\" target=\"_parent\"><img src=\"https://colab.research.google.com/assets/colab-badge.svg\" alt=\"Open In Colab\"/></a>"
      ]
    },
    {
      "cell_type": "code",
      "execution_count": 1,
      "metadata": {
        "colab": {
          "base_uri": "https://localhost:8080/",
          "height": 139
        },
        "id": "56S4gTNHF5PW",
        "outputId": "bc2ec413-710e-48fb-c2f5-53f530c74474"
      },
      "outputs": [
        {
          "output_type": "execute_result",
          "data": {
            "text/plain": [
              "'\\nProblem Statement:\\nConsider yourself to be Sam who is a data scientist. He has been invited as a guest lecturer at a college \\nto take an introductory session on Python. \\nTasks to be performed:\\n1. Create 1st tuple with values -> (10,20,30), 2nd tuple with values -> (40,50,60). \\na. Concatenate the two tuples and store it in “t_combine”\\nb. Repeat the elements of “t_combine” 3 times \\nc. Access the 3rd element from “t_combine”\\nd. Access the first three elements from “t_combine”\\ne. Access the last three elements from “t_combine”\\n2. Create a list ‘my_list’ with these elements: \\na. First element is a tuple with values 1,2,3 \\nb. Second element is a tuple with values “a”,”b”,”c”\\nc. Third element is a tuple with values True,False \\n3. Append a new tuple – (1,’a’,True) to ‘my_list’\\na. Append a new list – *“sparta”,123+ to my_list \\n4. Create a dictionary ‘fruit’ where: \\na. The first key is ‘Fruit’ and the values are (“Apple”,”Banana”,”Mango”,”Guava”)\\nb. The second key is ‘Cost’ and the values are (85,54,120,70) \\nc. Extract all the keys from ‘fruit’\\nd. Extract all the values from ‘fruit’\\n5. Crete a set named ‘my_set’ with values (1,1,”a”,”a”,True,True) and print the result\\n'"
            ],
            "application/vnd.google.colaboratory.intrinsic+json": {
              "type": "string"
            }
          },
          "metadata": {},
          "execution_count": 1
        }
      ],
      "source": [
        "\"\"\"\n",
        "Problem Statement:\n",
        "Consider yourself to be Sam who is a data scientist. He has been invited as a guest lecturer at a college \n",
        "to take an introductory session on Python. \n",
        "Tasks to be performed:\n",
        "1. Create 1st tuple with values -> (10,20,30), 2nd tuple with values -> (40,50,60). \n",
        "a. Concatenate the two tuples and store it in “t_combine”\n",
        "b. Repeat the elements of “t_combine” 3 times \n",
        "c. Access the 3rd element from “t_combine”\n",
        "d. Access the first three elements from “t_combine”\n",
        "e. Access the last three elements from “t_combine”\n",
        "2. Create a list ‘my_list’ with these elements: \n",
        "a. First element is a tuple with values 1,2,3 \n",
        "b. Second element is a tuple with values “a”,”b”,”c”\n",
        "c. Third element is a tuple with values True,False \n",
        "3. Append a new tuple – (1,’a’,True) to ‘my_list’\n",
        "a. Append a new list – *“sparta”,123+ to my_list \n",
        "4. Create a dictionary ‘fruit’ where: \n",
        "a. The first key is ‘Fruit’ and the values are (“Apple”,”Banana”,”Mango”,”Guava”)\n",
        "b. The second key is ‘Cost’ and the values are (85,54,120,70) \n",
        "c. Extract all the keys from ‘fruit’\n",
        "d. Extract all the values from ‘fruit’\n",
        "5. Crete a set named ‘my_set’ with values (1,1,”a”,”a”,True,True) and print the result\n",
        "\"\"\""
      ]
    },
    {
      "cell_type": "code",
      "source": [
        "t1=(10,20,30)\n",
        "t2=(40,50,60)\n",
        "# 1(a)combining t1 and t2\n",
        "t_combine = t1 + t2\n",
        "#1(b) repeating elements of t_combine 3 times\n",
        "t_combine = t_combine+ t_combine+ t_combine\n",
        "print(t_combine)\n",
        "# 1(c) accessing 3rd elem from t_combine\n",
        "x=t_combine[2]\n",
        "print(x)\n",
        "#1(d) accessing first 3 elements from t_combine\n",
        "first_three = t_combine[0:3]\n",
        "print(first_three)\n",
        "#1(e) accessing last 3 elements from t_combine\n",
        "last_three = t_combine[-3:]\n",
        "print(last_three)\n",
        "\n",
        "#2.creating my_list\n",
        "my_list =list ((1,2,3)+ (\"a\",\"b\",\"c\")+ (True,False))\n",
        "print(my_list)\n",
        "#appending new tuple with 1,'a',True\n",
        "my_list1 = tuple(my_list) + (1,\"a\",True)\n",
        "print(my_list1)\n",
        "\n",
        "\n",
        "#3.appending new list with 'sparta',123\n",
        "my_list = my_list + ['sparta',123]\n",
        "print(my_list)\n",
        "\n",
        "#4 creating a dictionary with fruit \n",
        "fruit={'Fruit':(\"Apple\",\"Banana\",\"Mango\",\"Guava\"),'Cost':(85,54,120,70)}\n",
        "# 4(c)extracting all keys fruit\n",
        "fruit_key=[]\n",
        "for key in fruit.keys():\n",
        "  fruit_key.append(key)\n",
        "print(fruit_key)\n",
        "\n",
        "#4(d) extracting all the values from fruit\n",
        "fruit_val=[]\n",
        "for val in fruit.values():\n",
        "  fruit_val.append(val)\n",
        "print(fruit_val)\n",
        "\n",
        "#5.Crete a set named ‘my_set’ with values (1,1,”a”,”a”,True,True) and print the result\n",
        "my_set={1,1,\"a\",\"a\",True,True}\n",
        "print(my_set)\n",
        "\n",
        "\n",
        "\n",
        "  \n",
        "  \n",
        "\n",
        "\n"
      ],
      "metadata": {
        "colab": {
          "base_uri": "https://localhost:8080/"
        },
        "id": "eVRFTi86G6Pr",
        "outputId": "46f2e4d1-45b9-45db-82da-c44575877586"
      },
      "execution_count": 25,
      "outputs": [
        {
          "output_type": "stream",
          "name": "stdout",
          "text": [
            "(10, 20, 30, 40, 50, 60, 10, 20, 30, 40, 50, 60, 10, 20, 30, 40, 50, 60)\n",
            "30\n",
            "(10, 20, 30)\n",
            "(40, 50, 60)\n",
            "[1, 2, 3, 'a', 'b', 'c', True, False]\n",
            "(1, 2, 3, 'a', 'b', 'c', True, False, 1, 'a', True)\n",
            "[1, 2, 3, 'a', 'b', 'c', True, False, 'sparta', 123]\n",
            "['Fruit', 'Cost']\n",
            "[('Apple', 'Banana', 'Mango', 'Guava'), (85, 54, 120, 70)]\n",
            "{1, 'a'}\n"
          ]
        }
      ]
    },
    {
      "cell_type": "code",
      "source": [
        "tup=(1,1,\"a\",\"a\",True,True)\n",
        "my_set=set(tup)\n",
        "print(my_set)"
      ],
      "metadata": {
        "colab": {
          "base_uri": "https://localhost:8080/"
        },
        "id": "g0BukU82SEzA",
        "outputId": "2cd669f5-5f8b-462d-aa8c-7a6d4dd01794"
      },
      "execution_count": 24,
      "outputs": [
        {
          "output_type": "stream",
          "name": "stdout",
          "text": [
            "{1, 'a'}\n"
          ]
        }
      ]
    }
  ]
}