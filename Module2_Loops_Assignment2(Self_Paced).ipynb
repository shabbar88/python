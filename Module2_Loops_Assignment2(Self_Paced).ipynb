{
  "nbformat": 4,
  "nbformat_minor": 0,
  "metadata": {
    "colab": {
      "provenance": [],
      "authorship_tag": "ABX9TyMPH0narMZ2ihPWyVMKKy7o",
      "include_colab_link": true
    },
    "kernelspec": {
      "name": "python3",
      "display_name": "Python 3"
    },
    "language_info": {
      "name": "python"
    }
  },
  "cells": [
    {
      "cell_type": "markdown",
      "metadata": {
        "id": "view-in-github",
        "colab_type": "text"
      },
      "source": [
        "<a href=\"https://colab.research.google.com/github/shabbar88/python/blob/main/Module2_Loops_Assignment2(Self_Paced).ipynb\" target=\"_parent\"><img src=\"https://colab.research.google.com/assets/colab-badge.svg\" alt=\"Open In Colab\"/></a>"
      ]
    },
    {
      "cell_type": "code",
      "execution_count": 1,
      "metadata": {
        "colab": {
          "base_uri": "https://localhost:8080/",
          "height": 70
        },
        "id": "37naHftYrkhd",
        "outputId": "fe0702d0-e586-4490-e5c4-bc0dbf913ad8"
      },
      "outputs": [
        {
          "output_type": "execute_result",
          "data": {
            "text/plain": [
              "'Problem Statement:\\nYou work in XYZ Corporation as a Data Analyst. Your company has told you to work with the If\\x02Else Conditions.\\nTasks to be performed:\\nCreate a list that is having 10,23,4,26,4,75,24,54 values and with the help of while loop, fetch \\nthe even numbers and print the numbers.\\n'"
            ],
            "application/vnd.google.colaboratory.intrinsic+json": {
              "type": "string"
            }
          },
          "metadata": {},
          "execution_count": 1
        }
      ],
      "source": [
        "\"\"\"Problem Statement:\n",
        "You work in XYZ Corporation as a Data Analyst. Your company has told you to work with the If\u0002Else Conditions.\n",
        "Tasks to be performed:\n",
        "Create a list that is having 10,23,4,26,4,75,24,54 values and with the help of while loop, fetch \n",
        "the even numbers and print the numbers.\n",
        "\"\"\""
      ]
    },
    {
      "cell_type": "code",
      "source": [
        "my_list=[10,23,4,26,4,75,24,54]\n",
        "fetch_even= [x for x in my_list if x%2==0]\n",
        "print(fetch_even)\n"
      ],
      "metadata": {
        "colab": {
          "base_uri": "https://localhost:8080/"
        },
        "id": "OfbFYTZ0r5Kp",
        "outputId": "c4d9fbfc-4d46-40dc-c519-1bc89cf5d558"
      },
      "execution_count": 2,
      "outputs": [
        {
          "output_type": "stream",
          "name": "stdout",
          "text": [
            "[10, 4, 26, 4, 24, 54]\n"
          ]
        }
      ]
    }
  ]
}