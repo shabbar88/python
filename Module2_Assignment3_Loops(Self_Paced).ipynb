{
  "nbformat": 4,
  "nbformat_minor": 0,
  "metadata": {
    "colab": {
      "provenance": [],
      "authorship_tag": "ABX9TyPJjeLTrH/3p85lhURTjyLK",
      "include_colab_link": true
    },
    "kernelspec": {
      "name": "python3",
      "display_name": "Python 3"
    },
    "language_info": {
      "name": "python"
    }
  },
  "cells": [
    {
      "cell_type": "markdown",
      "metadata": {
        "id": "view-in-github",
        "colab_type": "text"
      },
      "source": [
        "<a href=\"https://colab.research.google.com/github/shabbar88/python/blob/main/Module2_Assignment3_Loops(Self_Paced).ipynb\" target=\"_parent\"><img src=\"https://colab.research.google.com/assets/colab-badge.svg\" alt=\"Open In Colab\"/></a>"
      ]
    },
    {
      "cell_type": "code",
      "execution_count": null,
      "metadata": {
        "colab": {
          "base_uri": "https://localhost:8080/",
          "height": 52
        },
        "id": "fqBIlNmVtSKD",
        "outputId": "d4e6edd9-ed6d-4be2-df8f-1f9764173d47"
      },
      "outputs": [
        {
          "output_type": "execute_result",
          "data": {
            "text/plain": [
              "'\\nProblem Statement:\\nYou work in XYZ Corporation as a Data Analyst. Your company has told you to work with the IfElse Conditions.\\nTasks to be performed:\\n1. Create an array that is having user defined inputs and with the help of for loop, fetch all the prime\\nnumbers and print the numbers.'"
            ],
            "application/vnd.google.colaboratory.intrinsic+json": {
              "type": "string"
            }
          },
          "metadata": {},
          "execution_count": 1
        }
      ],
      "source": [
        "\"\"\"\n",
        "Problem Statement:\n",
        "You work in XYZ Corporation as a Data Analyst. Your company has told you to work with the IfElse Conditions.\n",
        "Tasks to be performed:\n",
        "1. Create an array that is having user defined inputs and with the help of for loop, fetch all the prime\n",
        "numbers and print the numbers.\"\"\""
      ]
    },
    {
      "cell_type": "code",
      "source": [
        "\n",
        "def makearray():\n",
        "  numbers=[]\n",
        "  opinion = input(\"Do wanna add number to array? Type YES/NO....\")\n",
        "  while opinion=='YES':\n",
        "  \n",
        "    num = int(input(\"Enter your number to add to array...\"))\n",
        "    numbers.append(num)\n",
        "    opinion = input(\"Do wanna add number to array? Type YES/NO....\")\n",
        "  return numbers\n",
        "\n",
        "\n",
        "def prime_checker(mylist):\n",
        "    prime=[]\n",
        "    for n in mylist:\n",
        "        flag=False\n",
        "        if n>1:\n",
        "            for i in range(2,n):\n",
        "                if n%i==0:\n",
        "                    flag=True\n",
        "                    break\n",
        "        if flag:\n",
        "            pass\n",
        "        else:\n",
        "            prime.append(n)\n",
        "            \n",
        "    return prime\n",
        "y=makearray()\n",
        "prime_checker(y)\n",
        "\n",
        "\n",
        "  \n",
        "\n"
      ],
      "metadata": {
        "colab": {
          "base_uri": "https://localhost:8080/"
        },
        "id": "PSdusPA4tj0u",
        "outputId": "058c44dd-6c6e-4837-a938-18dda37fca2c"
      },
      "execution_count": 18,
      "outputs": [
        {
          "name": "stdout",
          "output_type": "stream",
          "text": [
            "Do wanna add number to array? Type YES/NO....YES\n",
            "Enter your number to add to array...11\n",
            "Do wanna add number to array? Type YES/NO....YES\n",
            "Enter your number to add to array...15\n",
            "Do wanna add number to array? Type YES/NO....YES\n",
            "Enter your number to add to array...17\n",
            "Do wanna add number to array? Type YES/NO....NO\n"
          ]
        },
        {
          "output_type": "execute_result",
          "data": {
            "text/plain": [
              "[11, 17]"
            ]
          },
          "metadata": {},
          "execution_count": 18
        }
      ]
    },
    {
      "cell_type": "code",
      "source": [],
      "metadata": {
        "id": "E4Utgw5Z5SnU"
      },
      "execution_count": null,
      "outputs": []
    }
  ]
}