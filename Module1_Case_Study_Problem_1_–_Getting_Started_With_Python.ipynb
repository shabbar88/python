{
  "nbformat": 4,
  "nbformat_minor": 0,
  "metadata": {
    "colab": {
      "provenance": [],
      "authorship_tag": "ABX9TyNNfgekfMyRQw9pZVFZkigj",
      "include_colab_link": true
    },
    "kernelspec": {
      "name": "python3",
      "display_name": "Python 3"
    },
    "language_info": {
      "name": "python"
    }
  },
  "cells": [
    {
      "cell_type": "markdown",
      "metadata": {
        "id": "view-in-github",
        "colab_type": "text"
      },
      "source": [
        "<a href=\"https://colab.research.google.com/github/shabbar88/python/blob/main/Module1_Case_Study_Problem_1_%E2%80%93_Getting_Started_With_Python.ipynb\" target=\"_parent\"><img src=\"https://colab.research.google.com/assets/colab-badge.svg\" alt=\"Open In Colab\"/></a>"
      ]
    },
    {
      "cell_type": "code",
      "execution_count": 1,
      "metadata": {
        "colab": {
          "base_uri": "https://localhost:8080/",
          "height": 70
        },
        "id": "O5908DFGivxa",
        "outputId": "7001b4e8-8866-48d9-9174-86f747613066"
      },
      "outputs": [
        {
          "output_type": "execute_result",
          "data": {
            "text/plain": [
              "'1. Create a list containing squares of numbers from 1 to 10 (HINT: use List Comprehension).\\n2. Write a Function to check if year number is a leap year.\\n3. Write a Function to take an array and return another array that contains the members of first \\narray that are even.\\n4. Write a Function that takes 2 arrays and prints the members of first array that are present of \\nsecond array. (HINT: use Membership Comprehension)'"
            ],
            "application/vnd.google.colaboratory.intrinsic+json": {
              "type": "string"
            }
          },
          "metadata": {},
          "execution_count": 1
        }
      ],
      "source": [
        "\"\"\"1. Create a list containing squares of numbers from 1 to 10 (HINT: use List Comprehension).\n",
        "2. Write a Function to check if year number is a leap year.\n",
        "3. Write a Function to take an array and return another array that contains the members of first \n",
        "array that are even.\n",
        "4. Write a Function that takes 2 arrays and prints the members of first array that are present of \n",
        "second array. (HINT: use Membership Comprehension)\"\"\""
      ]
    },
    {
      "cell_type": "code",
      "source": [
        "#question no 1\n",
        "square_of_nums=[x**2 for x in range(1,11)]\n",
        "print(square_of_nums)"
      ],
      "metadata": {
        "colab": {
          "base_uri": "https://localhost:8080/"
        },
        "id": "WyeKRR7cjncD",
        "outputId": "c8082a46-8ba3-4fd4-f665-f15885a8afa0"
      },
      "execution_count": 3,
      "outputs": [
        {
          "output_type": "stream",
          "name": "stdout",
          "text": [
            "[1, 4, 9, 16, 25, 36, 49, 64, 81, 100]\n"
          ]
        }
      ]
    },
    {
      "cell_type": "code",
      "source": [
        "#question no 2\n",
        "def check_leap(your_year):\n",
        "  if your_year % 400==0:\n",
        "    return True\n",
        "  if your_year %100==0:\n",
        "    return False\n",
        "  if your_year % 4==0:\n",
        "    return True\n",
        "  else:\n",
        "    return False\n",
        "year = int(input(\"feed year to check leap....\"))\n",
        "ans = check_leap(year)\n",
        "print(f\"Is {year} leap: {ans} \")"
      ],
      "metadata": {
        "colab": {
          "base_uri": "https://localhost:8080/"
        },
        "id": "fOc1oYWukcHE",
        "outputId": "27a24e90-fa94-4269-daea-17376481628b"
      },
      "execution_count": 8,
      "outputs": [
        {
          "output_type": "stream",
          "name": "stdout",
          "text": [
            "feed year to check leap....2020\n",
            "Is 2020 leap: True \n"
          ]
        }
      ]
    },
    {
      "cell_type": "code",
      "source": [
        "#question no 3\n",
        "def generate_even_list(numbers):\n",
        "  even = [x for x in numbers if x%2==0]\n",
        "  return even\n",
        "ans=generate_even_list([10,20,17,18,98])\n",
        "print(ans)\n"
      ],
      "metadata": {
        "colab": {
          "base_uri": "https://localhost:8080/"
        },
        "id": "evAU5cc-mFpr",
        "outputId": "be11e66d-20a4-4508-9675-9d5143531f4d"
      },
      "execution_count": 2,
      "outputs": [
        {
          "output_type": "stream",
          "name": "stdout",
          "text": [
            "[10, 20, 18, 98]\n"
          ]
        }
      ]
    },
    {
      "cell_type": "code",
      "source": [
        "#question no 4\n",
        "def take_arrays(list1,list2):\n",
        "  your_list= set(list1) & set(list2)\n",
        "  return list(your_list)\n",
        "ans = take_arrays([10,11,12,13,14,15,17],[13,11,10,20,16,19])\n",
        "print(ans)"
      ],
      "metadata": {
        "colab": {
          "base_uri": "https://localhost:8080/"
        },
        "id": "I7OsDq38rwdS",
        "outputId": "34bea7fa-6cb9-481e-acd1-2f88fe987a44"
      },
      "execution_count": 7,
      "outputs": [
        {
          "output_type": "stream",
          "name": "stdout",
          "text": [
            "[10, 11, 13]\n"
          ]
        }
      ]
    }
  ]
}