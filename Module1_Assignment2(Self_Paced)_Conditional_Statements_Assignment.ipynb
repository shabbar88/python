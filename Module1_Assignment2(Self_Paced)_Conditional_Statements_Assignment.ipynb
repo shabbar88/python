{
  "nbformat": 4,
  "nbformat_minor": 0,
  "metadata": {
    "colab": {
      "provenance": [],
      "collapsed_sections": [],
      "authorship_tag": "ABX9TyPa3aFPQhgKMxsxosKp6k9O",
      "include_colab_link": true
    },
    "kernelspec": {
      "name": "python3",
      "display_name": "Python 3"
    },
    "language_info": {
      "name": "python"
    }
  },
  "cells": [
    {
      "cell_type": "markdown",
      "metadata": {
        "id": "view-in-github",
        "colab_type": "text"
      },
      "source": [
        "<a href=\"https://colab.research.google.com/github/shabbar88/python/blob/main/Module1_Assignment2(Self_Paced)_Conditional_Statements_Assignment.ipynb\" target=\"_parent\"><img src=\"https://colab.research.google.com/assets/colab-badge.svg\" alt=\"Open In Colab\"/></a>"
      ]
    },
    {
      "cell_type": "code",
      "execution_count": 1,
      "metadata": {
        "colab": {
          "base_uri": "https://localhost:8080/",
          "height": 70
        },
        "id": "9v0ZucDgVmJu",
        "outputId": "72fba7bc-a974-4cdd-c0ba-6101e3ed3fe1"
      },
      "outputs": [
        {
          "output_type": "execute_result",
          "data": {
            "text/plain": [
              "'Problem Statement:\\nYou work in XYZ Corporation as a Data Analyst. Your company has told you to work with the If\\x02Else Conditions.\\nTasks to be performed:\\n1. Take three user inputs and print the greatest number from those inputs using if-else \\ncondition. Edge cases if any, should also be handled.\\n'"
            ],
            "application/vnd.google.colaboratory.intrinsic+json": {
              "type": "string"
            }
          },
          "metadata": {},
          "execution_count": 1
        }
      ],
      "source": [
        "\"\"\"Problem Statement:\n",
        "You work in XYZ Corporation as a Data Analyst. Your company has told you to work with the If\u0002Else Conditions.\n",
        "Tasks to be performed:\n",
        "1. Take three user inputs and print the greatest number from those inputs using if-else \n",
        "condition. Edge cases if any, should also be handled.\n",
        "\"\"\"\n"
      ]
    },
    {
      "cell_type": "code",
      "source": [
        "a = int(input(\"Enter first number..\"))\n",
        "b = int(input(\"Enter second number.......\"))\n",
        "c = int(input(\"Enter third number....\"))\n",
        "if a>=b and a>c:\n",
        "  print(f\"{a} is greatest among all 3\")\n",
        "elif b>=c and b>a:\n",
        "  print(f\"{b} is greatest amomg al 3\")\n",
        "elif c>=a and c>b:\n",
        "  print(f\"{c} is greatest among all 3\")\n",
        "else:\n",
        "  print(\"all are equal1\")\n",
        "\n"
      ],
      "metadata": {
        "colab": {
          "base_uri": "https://localhost:8080/"
        },
        "id": "pxrmvsM1WMI5",
        "outputId": "c53a7856-2925-4e6a-97af-c4c5265f9a19"
      },
      "execution_count": 6,
      "outputs": [
        {
          "output_type": "stream",
          "name": "stdout",
          "text": [
            "Enter first number..10\n",
            "Enter second number.......6\n",
            "Enter third number....10\n",
            "10 is greatest among all 3\n"
          ]
        }
      ]
    }
  ]
}