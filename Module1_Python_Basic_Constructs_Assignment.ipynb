{
  "nbformat": 4,
  "nbformat_minor": 0,
  "metadata": {
    "colab": {
      "provenance": [],
      "authorship_tag": "ABX9TyNo5Gx1hTVi+qF6bnb/q4Lb",
      "include_colab_link": true
    },
    "kernelspec": {
      "name": "python3",
      "display_name": "Python 3"
    },
    "language_info": {
      "name": "python"
    }
  },
  "cells": [
    {
      "cell_type": "markdown",
      "metadata": {
        "id": "view-in-github",
        "colab_type": "text"
      },
      "source": [
        "<a href=\"https://colab.research.google.com/github/shabbar88/python/blob/main/Module1_Python_Basic_Constructs_Assignment.ipynb\" target=\"_parent\"><img src=\"https://colab.research.google.com/assets/colab-badge.svg\" alt=\"Open In Colab\"/></a>"
      ]
    },
    {
      "cell_type": "code",
      "execution_count": null,
      "metadata": {
        "colab": {
          "base_uri": "https://localhost:8080/"
        },
        "id": "uhShJX6ZDNKl",
        "outputId": "f91cb279-a78f-4798-8a98-ec1a3f7860a1"
      },
      "outputs": [
        {
          "output_type": "stream",
          "name": "stdout",
          "text": [
            "162.8894626777442\n"
          ]
        }
      ],
      "source": [
        "#question no 1\n",
        "def compound_interest(n,r,p):\n",
        "  A = p*(1 + (r/100))**n\n",
        "  return A\n",
        "ans = compound_interest(10,5,100)\n",
        "print(ans)\n",
        "# so answer is b"
      ]
    },
    {
      "cell_type": "code",
      "source": [
        "#question no 2\n",
        "A=10\n",
        "B=20\n",
        "str=\"There are {} Students in the class , with {} who play at least one sport.\"\n",
        "print(str.format(A,B))\n",
        "#so answer is d (None of the above)"
      ],
      "metadata": {
        "colab": {
          "base_uri": "https://localhost:8080/"
        },
        "id": "NrMSIo9aEoyq",
        "outputId": "9ea24129-e761-45c7-98f1-e29baf9807bc"
      },
      "execution_count": null,
      "outputs": [
        {
          "output_type": "stream",
          "name": "stdout",
          "text": [
            "There are 10 Students in the class , with 20 who play at least one sport.\n"
          ]
        }
      ]
    },
    {
      "cell_type": "code",
      "source": [
        "#question no 3\n",
        "Sample=\"It goes without saying, \\\"Time is Money\\\", and none can deny it\"\n",
        "print(Sample)\n",
        "# answer is >>   a. print(“It goes without saying, \\“Time is Money\\”, and none can deny it.”)\n"
      ],
      "metadata": {
        "colab": {
          "base_uri": "https://localhost:8080/"
        },
        "id": "CQKS8wasGX5O",
        "outputId": "16d5d989-9dee-414b-d6f1-18cd46129efa"
      },
      "execution_count": null,
      "outputs": [
        {
          "output_type": "stream",
          "name": "stdout",
          "text": [
            "It goes without saying, \"Time is Money\", and none can deny it\n"
          ]
        }
      ]
    },
    {
      "cell_type": "code",
      "source": [
        "#question no 4\n",
        "x = lambda a,b: a//b\n",
        "x(10,3)\n",
        "z=x(10,3)\n",
        "print(z)\n",
        "# answer would be (b) ie.3"
      ],
      "metadata": {
        "colab": {
          "base_uri": "https://localhost:8080/"
        },
        "id": "EUqk0MfxPO2F",
        "outputId": "540840d4-2250-432d-aa0d-d1a55790a846"
      },
      "execution_count": null,
      "outputs": [
        {
          "output_type": "stream",
          "name": "stdout",
          "text": [
            "3\n"
          ]
        }
      ]
    },
    {
      "cell_type": "code",
      "source": [
        "#qustion no 5\n",
        "A = 10\n",
        "B = 12\n",
        "print(\"Smaller\") if A == B else print(\"Greater\") if A < B else print(\"True\")\n",
        "# so answer would be (c) i.e Greater\n"
      ],
      "metadata": {
        "colab": {
          "base_uri": "https://localhost:8080/"
        },
        "id": "R_JxTkK_QExI",
        "outputId": "262b5d15-ec2e-4cab-ed85-4f99fd4c8890"
      },
      "execution_count": null,
      "outputs": [
        {
          "output_type": "stream",
          "name": "stdout",
          "text": [
            "Greater\n"
          ]
        }
      ]
    },
    {
      "cell_type": "code",
      "source": [
        "#question no 7\n",
        "\n",
        "string = \"Machine Learning\"\n",
        "z=string[slice(8,13,1)]\n",
        "print(z)\n",
        "#so answer would be>>>> d. string[slice(8,13,1)]\n"
      ],
      "metadata": {
        "colab": {
          "base_uri": "https://localhost:8080/"
        },
        "id": "Zdcst__wQkBZ",
        "outputId": "92d57821-3f41-465b-a546-387ba9eb5e50"
      },
      "execution_count": null,
      "outputs": [
        {
          "output_type": "stream",
          "name": "stdout",
          "text": [
            "Learn\n"
          ]
        }
      ]
    },
    {
      "cell_type": "code",
      "source": [
        "#question no 8\n",
        "numbers = list(range(10,25,4))\n",
        "print(numbers)\n",
        "ind=numbers.index(18)\n",
        "print(ind)\n",
        "#answer would be>>> b. 2"
      ],
      "metadata": {
        "colab": {
          "base_uri": "https://localhost:8080/"
        },
        "id": "zFXqt6AXSGpO",
        "outputId": "9884f5eb-d1be-413b-f902-2fde48f40adc"
      },
      "execution_count": null,
      "outputs": [
        {
          "output_type": "stream",
          "name": "stdout",
          "text": [
            "[10, 14, 18, 22]\n",
            "2\n"
          ]
        }
      ]
    },
    {
      "cell_type": "code",
      "source": [
        "#question no 9\n",
        "num1 = 5 **4\n",
        "num2 = pow(5,4)\n",
        "print(num1,num2)\n",
        "# answer would be>> a. num1 = num2\n"
      ],
      "metadata": {
        "colab": {
          "base_uri": "https://localhost:8080/"
        },
        "id": "wvEi-JoFTdil",
        "outputId": "aae7135d-9c9b-4b9d-889d-c832a08d4e64"
      },
      "execution_count": null,
      "outputs": [
        {
          "output_type": "stream",
          "name": "stdout",
          "text": [
            "625 625\n"
          ]
        }
      ]
    },
    {
      "cell_type": "code",
      "source": [
        "#question no 13\n",
        "z=\"ID-5632\"\n",
        "type(z)\n",
        "\n"
      ],
      "metadata": {
        "colab": {
          "base_uri": "https://localhost:8080/"
        },
        "id": "ElVzC4JoULET",
        "outputId": "5f219a74-8765-4e91-9158-90447a9c3424"
      },
      "execution_count": null,
      "outputs": [
        {
          "output_type": "execute_result",
          "data": {
            "text/plain": [
              "str"
            ]
          },
          "metadata": {},
          "execution_count": 24
        }
      ]
    },
    {
      "cell_type": "code",
      "source": [
        "#question no 16\n",
        "Country ={'India':'Delhi','China':'Beijing','Japan':'Tokyo','Qatar':'Doha','France':'Marseilles'}\n",
        "#Two command to replace Marseilles with Paris\n",
        "Country['France']='Paris'\n",
        "print(Country)\n",
        "Country.update({\"France\":\"Paris\"})\n",
        "print(Country)"
      ],
      "metadata": {
        "colab": {
          "base_uri": "https://localhost:8080/"
        },
        "id": "DocYi660Yxgk",
        "outputId": "5c526291-fe04-477b-98eb-59ab8753eea7"
      },
      "execution_count": null,
      "outputs": [
        {
          "output_type": "stream",
          "name": "stdout",
          "text": [
            "{'India': 'Delhi', 'China': 'Beijing', 'Japan': 'Tokyo', 'Qatar': 'Doha', 'France': 'Paris'}\n",
            "{'India': 'Delhi', 'China': 'Beijing', 'Japan': 'Tokyo', 'Qatar': 'Doha', 'France': 'Paris'}\n"
          ]
        }
      ]
    },
    {
      "cell_type": "code",
      "source": [
        "#question no 17\n",
        "tuple_1 = (1,5,6,7,8)\n",
        "tuple_2 = (8,9,4)\n",
        "z=sum(tuple_1)\n",
        "sum(tuple_1)\n",
        "u=len(tuple_2)\n",
        "v=tuple_2 + tuple_1\n",
        "print(u,v)\n",
        "\n",
        "print(z)\n",
        "\n",
        "#ans would be >> tuple_1[3] = 45   because 'tuple' object does not support item assignment\n",
        "\n"
      ],
      "metadata": {
        "colab": {
          "base_uri": "https://localhost:8080/"
        },
        "id": "JlB3fQ5YbabI",
        "outputId": "879566f8-5cfa-41c1-a54a-3e522df0c6f4"
      },
      "execution_count": null,
      "outputs": [
        {
          "output_type": "stream",
          "name": "stdout",
          "text": [
            "3 (8, 9, 4, 1, 5, 6, 7, 8)\n",
            "27\n"
          ]
        }
      ]
    },
    {
      "cell_type": "code",
      "source": [
        "#question no 18\n",
        "s = {1,2,3,4,4,4,5,6}\n",
        "print(s)\n",
        "z = len(s)\n",
        "print(z)\n",
        "#There are 6 elents in this data structure"
      ],
      "metadata": {
        "colab": {
          "base_uri": "https://localhost:8080/"
        },
        "id": "2JgHF9NwcsWL",
        "outputId": "f570e636-f436-4981-dab5-97a30fbc2747"
      },
      "execution_count": null,
      "outputs": [
        {
          "output_type": "stream",
          "name": "stdout",
          "text": [
            "{1, 2, 3, 4, 5, 6}\n",
            "6\n"
          ]
        }
      ]
    },
    {
      "cell_type": "code",
      "source": [],
      "metadata": {
        "id": "5ZW3ghV5d7bK"
      },
      "execution_count": null,
      "outputs": []
    }
  ]
}