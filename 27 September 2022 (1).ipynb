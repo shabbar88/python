{
 "cells": [
  {
   "cell_type": "markdown",
   "id": "38280b34",
   "metadata": {},
   "source": [
    "# program for args\n"
   ]
  },
  {
   "cell_type": "code",
   "execution_count": 11,
   "id": "f08c34ea",
   "metadata": {},
   "outputs": [
    {
     "name": "stdout",
     "output_type": "stream",
     "text": [
      "[2, 4, 6]\n"
     ]
    }
   ],
   "source": [
    "def even_picker(*args):\n",
    "    even = []\n",
    "    for number in args:\n",
    "        if number % 2 == 0:\n",
    "            even.append(number)\n",
    "        else:\n",
    "            pass\n",
    "    return even\n",
    "#we have to pass arguments here....\n",
    "result = even_picker(1,2,3,4,5,6,7)\n",
    "print(result)                     "
   ]
  },
  {
   "cell_type": "code",
   "execution_count": 16,
   "id": "30c216f0",
   "metadata": {},
   "outputs": [
    {
     "name": "stdout",
     "output_type": "stream",
     "text": [
      "tAuQuIr\n"
     ]
    }
   ],
   "source": [
    "#progam2\n",
    "#This is the program to convert word at even position to uppercase n word at odd position to lowercase\n",
    "def sentence_maker(something):\n",
    "    \n",
    "    my_word=\"\"\n",
    "    for index,letter in enumerate(something):\n",
    "        if index==0 or index%2==0:\n",
    "            l=letter.lower()\n",
    "            my_word+=l\n",
    "        else:\n",
    "            l1=letter.upper()\n",
    "            my_word+=l1\n",
    "    return my_word\n",
    "res = sentence_maker(\"TAUQUIR\")\n",
    "type(res)\n",
    "print(res)\n",
    "     \n",
    "\n",
    "            "
   ]
  },
  {
   "cell_type": "code",
   "execution_count": 20,
   "id": "619dcb80",
   "metadata": {},
   "outputs": [
    {
     "name": "stdout",
     "output_type": "stream",
     "text": [
      "18\n",
      "19\n"
     ]
    }
   ],
   "source": [
    "#another program\n",
    "def myfunc(num1,num2):\n",
    "    if (num1 %2==0) and (num2%2==0):\n",
    "        return min(num1,num2)\n",
    "    else:\n",
    "        return max(num1,num2)\n",
    "ans = myfunc(18,20)\n",
    "print(ans)\n",
    "ans1 = myfunc(17,19)\n",
    "print(ans1)"
   ]
  },
  {
   "cell_type": "code",
   "execution_count": 7,
   "id": "ce4dcb93",
   "metadata": {},
   "outputs": [
    {
     "name": "stdout",
     "output_type": "stream",
     "text": [
      "False\n"
     ]
    }
   ],
   "source": [
    "def animal_checker(something):\n",
    "    x=something.split(\" \")\n",
    "    y=x[0]\n",
    "    z=x[1]\n",
    "    if y[:1].lower()==z[:1].lower():\n",
    "        return True\n",
    "    else:\n",
    "        return False\n",
    "ans = animal_checker(\"Kangaroo tabir\")\n",
    "type(ans)\n",
    "print(ans)"
   ]
  },
  {
   "cell_type": "code",
   "execution_count": 12,
   "id": "71cd2c83",
   "metadata": {},
   "outputs": [
    {
     "name": "stdout",
     "output_type": "stream",
     "text": [
      "TauQuir\n"
     ]
    }
   ],
   "source": [
    "#wap to capitalize first and 4th charecter of name\n",
    "def cap_first_fourth(name):\n",
    "    my_name=\"\"\n",
    "    for index,x in enumerate(name):\n",
    "        if index==0 or index==3:\n",
    "            my_name+=x.capitalize()\n",
    "        else:\n",
    "            my_name+=x\n",
    "    return my_name\n",
    "ans = cap_first_fourth(\"Tauquir\")\n",
    "type(ans)\n",
    "print(ans)\n"
   ]
  },
  {
   "cell_type": "code",
   "execution_count": 15,
   "id": "a5ed277f",
   "metadata": {},
   "outputs": [
    {
     "name": "stdout",
     "output_type": "stream",
     "text": [
      "doog od nac rabbahs\n"
     ]
    }
   ],
   "source": [
    "#wap reversing words in sentence\n",
    "def rev_sentence(sentence):\n",
    "    my_sen = sentence[::-1]\n",
    "    return my_sen\n",
    "ans = rev_sentence(\"shabbar can do good\")\n",
    "type(ans)\n",
    "print(ans)\n",
    "   "
   ]
  },
  {
   "cell_type": "code",
   "execution_count": 21,
   "id": "6e60f090",
   "metadata": {},
   "outputs": [
    {
     "name": "stdout",
     "output_type": "stream",
     "text": [
      "Ahmed - Tauquir\n"
     ]
    }
   ],
   "source": [
    "def rev_words(sentence):\n",
    "    my=sentence.split()[::-1]\n",
    "    my1=\" - \".join(my)\n",
    "    return my1\n",
    "res = rev_words(\"Tauquir Ahmed\")\n",
    "print(res)\n",
    "#this program reverse words in sentence\n",
    "        \n",
    "        \n",
    "        \n",
    "        "
   ]
  },
  {
   "cell_type": "code",
   "execution_count": 23,
   "id": "9f36ebd5",
   "metadata": {},
   "outputs": [
    {
     "name": "stdout",
     "output_type": "stream",
     "text": [
      "TTTaaauuuqqquuuiiirrr\n"
     ]
    }
   ],
   "source": [
    "def paper_doll(name):\n",
    "    name1 =\"\"\n",
    "    for index, n in enumerate(name):\n",
    "        name1+=(n*3)\n",
    "    return name1\n",
    "ans = paper_doll(\"Tauquir\")\n",
    "print(ans)"
   ]
  },
  {
   "cell_type": "code",
   "execution_count": 43,
   "id": "3be324f3",
   "metadata": {},
   "outputs": [
    {
     "name": "stdout",
     "output_type": "stream",
     "text": [
      "BUST\n"
     ]
    }
   ],
   "source": [
    "def black(a,b,c):\n",
    "    if sum((a,b,c))<=21:\n",
    "        return sum(a,b,c)\n",
    "    elif sum((a,b,c))>21 and 11 in(a,b,c):\n",
    "        if sum((a,b,c))-10 >21:\n",
    "            #return sum((a,b,c))-10 \n",
    "            return 'BUST'\n",
    "        else:\n",
    "          \n",
    "            return sum((a,b,c))-10\n",
    "z= black(11,10,12)\n",
    "type(z)\n",
    "print(z)\n",
    "        \n",
    "            "
   ]
  },
  {
   "cell_type": "code",
   "execution_count": null,
   "id": "bf901551",
   "metadata": {},
   "outputs": [],
   "source": []
  }
 ],
 "metadata": {
  "kernelspec": {
   "display_name": "Python 3 (ipykernel)",
   "language": "python",
   "name": "python3"
  },
  "language_info": {
   "codemirror_mode": {
    "name": "ipython",
    "version": 3
   },
   "file_extension": ".py",
   "mimetype": "text/x-python",
   "name": "python",
   "nbconvert_exporter": "python",
   "pygments_lexer": "ipython3",
   "version": "3.9.12"
  }
 },
 "nbformat": 4,
 "nbformat_minor": 5
}
