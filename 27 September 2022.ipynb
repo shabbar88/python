{
 "cells": [
  {
   "cell_type": "markdown",
   "id": "19c94b1b",
   "metadata": {},
   "source": [
    "# program for args\n"
   ]
  },
  {
   "cell_type": "code",
   "execution_count": 11,
   "id": "10098979",
   "metadata": {},
   "outputs": [
    {
     "name": "stdout",
     "output_type": "stream",
     "text": [
      "[2, 4, 6]\n"
     ]
    }
   ],
   "source": [
    "def even_picker(*args):\n",
    "    even = []\n",
    "    for number in args:\n",
    "        if number % 2 == 0:\n",
    "            even.append(number)\n",
    "        else:\n",
    "            pass\n",
    "    return even\n",
    "#we have to pass arguments here....\n",
    "result = even_picker(1,2,3,4,5,6,7)\n",
    "print(result)                     "
   ]
  },
  {
   "cell_type": "code",
   "execution_count": 16,
   "id": "2368f6e7",
   "metadata": {},
   "outputs": [
    {
     "name": "stdout",
     "output_type": "stream",
     "text": [
      "tAuQuIr\n"
     ]
    }
   ],
   "source": [
    "#progam2\n",
    "#This is the program to convert word at even position to uppercase n word at odd position to lowercase\n",
    "def sentence_maker(something):\n",
    "    \n",
    "    my_word=\"\"\n",
    "    for index,letter in enumerate(something):\n",
    "        if index==0 or index%2==0:\n",
    "            l=letter.lower()\n",
    "            my_word+=l\n",
    "        else:\n",
    "            l1=letter.upper()\n",
    "            my_word+=l1\n",
    "    return my_word\n",
    "res = sentence_maker(\"TAUQUIR\")\n",
    "type(res)\n",
    "print(res)\n",
    "     \n",
    "\n",
    "            "
   ]
  },
  {
   "cell_type": "code",
   "execution_count": null,
   "id": "b686255e",
   "metadata": {},
   "outputs": [],
   "source": []
  }
 ],
 "metadata": {
  "kernelspec": {
   "display_name": "Python 3 (ipykernel)",
   "language": "python",
   "name": "python3"
  },
  "language_info": {
   "codemirror_mode": {
    "name": "ipython",
    "version": 3
   },
   "file_extension": ".py",
   "mimetype": "text/x-python",
   "name": "python",
   "nbconvert_exporter": "python",
   "pygments_lexer": "ipython3",
   "version": "3.9.12"
  }
 },
 "nbformat": 4,
 "nbformat_minor": 5
}
