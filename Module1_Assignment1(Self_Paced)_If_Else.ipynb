{
  "nbformat": 4,
  "nbformat_minor": 0,
  "metadata": {
    "colab": {
      "provenance": [],
      "authorship_tag": "ABX9TyP9A23Jit6331Y3dq7k6yHL",
      "include_colab_link": true
    },
    "kernelspec": {
      "name": "python3",
      "display_name": "Python 3"
    },
    "language_info": {
      "name": "python"
    }
  },
  "cells": [
    {
      "cell_type": "markdown",
      "metadata": {
        "id": "view-in-github",
        "colab_type": "text"
      },
      "source": [
        "<a href=\"https://colab.research.google.com/github/shabbar88/python/blob/main/Module1_Assignment1(Self_Paced)_If_Else.ipynb\" target=\"_parent\"><img src=\"https://colab.research.google.com/assets/colab-badge.svg\" alt=\"Open In Colab\"/></a>"
      ]
    },
    {
      "cell_type": "code",
      "execution_count": 1,
      "metadata": {
        "colab": {
          "base_uri": "https://localhost:8080/",
          "height": 70
        },
        "id": "3HVoyjsaTa97",
        "outputId": "0d462ec4-53ec-44ea-83f0-8cec622e2e31"
      },
      "outputs": [
        {
          "output_type": "execute_result",
          "data": {
            "text/plain": [
              "'You work in XYZ Corporation as a Data Analyst. Your company has told you to work with the If\\x02Else Conditions.\\nTasks to be performed:\\n1. Input the values of a and b as 10 and 20 respectively. Now check if a is greater or b is greater \\nusing if condition. Think about all the edge cases, and print the statements accordingly.\\n'"
            ],
            "application/vnd.google.colaboratory.intrinsic+json": {
              "type": "string"
            }
          },
          "metadata": {},
          "execution_count": 1
        }
      ],
      "source": [
        "\"\"\"You work in XYZ Corporation as a Data Analyst. Your company has told you to work with the If\u0002Else Conditions.\n",
        "Tasks to be performed:\n",
        "1. Input the values of a and b as 10 and 20 respectively. Now check if a is greater or b is greater \n",
        "using if condition. Think about all the edge cases, and print the statements accordingly.\n",
        "\"\"\""
      ]
    },
    {
      "cell_type": "code",
      "source": [
        "a = int(input(\"Take number 1...\"))\n",
        "b = int(input(\"Take no 2........\"))\n",
        "if a>b:\n",
        "  print(f\"{a} is greater than {b}\")\n",
        "else:\n",
        "    print(f\"{b} is greater than {a}\")\n"
      ],
      "metadata": {
        "colab": {
          "base_uri": "https://localhost:8080/"
        },
        "id": "0an19WbeT-_f",
        "outputId": "b29d543c-dbc9-426f-ecfb-d688c203b355"
      },
      "execution_count": 2,
      "outputs": [
        {
          "output_type": "stream",
          "name": "stdout",
          "text": [
            "Take number 1...10\n",
            "Take no 2........20\n",
            "20 is greater than 10\n"
          ]
        }
      ]
    }
  ]
}