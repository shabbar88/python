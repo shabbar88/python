{
 "cells": [
  {
   "cell_type": "markdown",
   "id": "cdf57c9d",
   "metadata": {},
   "source": [
    "# oops concept\n"
   ]
  },
  {
   "cell_type": "code",
   "execution_count": 10,
   "id": "afbe9b32",
   "metadata": {},
   "outputs": [],
   "source": [
    "class Circle():\n",
    "    pi=3.14\n",
    "    def __init__(Self,radius=1):\n",
    "        Self.radius=radius\n",
    "        Self.area=radius*radius*Circle.pi\n",
    "    def get_circumference(Self):\n",
    "        return 2*( Circle.pi) *(Self.radius)\n",
    "cir = Circle(10)\n",
    "\n",
    "        "
   ]
  },
  {
   "cell_type": "code",
   "execution_count": 6,
   "id": "6a343fb7",
   "metadata": {},
   "outputs": [
    {
     "data": {
      "text/plain": [
       "62.800000000000004"
      ]
     },
     "execution_count": 6,
     "metadata": {},
     "output_type": "execute_result"
    }
   ],
   "source": [
    "cir.get_circumference()"
   ]
  },
  {
   "cell_type": "code",
   "execution_count": 8,
   "id": "0be06425",
   "metadata": {},
   "outputs": [
    {
     "name": "stdout",
     "output_type": "stream",
     "text": [
      "Your circumfrence is 62.800000000000004\n"
     ]
    }
   ],
   "source": [
    "print(f\"Your circumfrence is {cir.get_circumference()}\")"
   ]
  },
  {
   "cell_type": "code",
   "execution_count": 9,
   "id": "5b55a69a",
   "metadata": {},
   "outputs": [
    {
     "name": "stdout",
     "output_type": "stream",
     "text": [
      "Your cir is 62.800000000000004\n"
     ]
    }
   ],
   "source": [
    "print(\"Your cir is {}\".format(cir.get_circumference()))"
   ]
  },
  {
   "cell_type": "code",
   "execution_count": 17,
   "id": "559573f6",
   "metadata": {},
   "outputs": [
    {
     "name": "stdout",
     "output_type": "stream",
     "text": [
      "2.8284271247461903\n",
      "1.0\n"
     ]
    }
   ],
   "source": [
    "class Line():\n",
    "    def __init__(Self,coor1,coor2):\n",
    "        Self.coor1=coor1\n",
    "        Self.coor2=coor2   \n",
    "    def distance(Self):\n",
    "        t1,t2= Self.coor1\n",
    "        t3,t4=Self.coor2\n",
    "\n",
    "        some=((t3-t1)**2)+((t4-t2)**2)\n",
    "        Self.dist=some**(1/2)\n",
    "        return Self.dist\n",
    "    def get_slope(Self):\n",
    "        t1,t2= Self.coor1\n",
    "        t3,t4=Self.coor2\n",
    "        return (t4-t2)/(t3-t1)\n",
    "        \n",
    "l = Line((10,12),(12,14))\n",
    "print(l.distance())\n",
    "print(l.get_slope())\n",
    "        "
   ]
  },
  {
   "cell_type": "code",
   "execution_count": 24,
   "id": "c10ad684",
   "metadata": {},
   "outputs": [
    {
     "name": "stdout",
     "output_type": "stream",
     "text": [
      "Vulume is 9420.0 and Area is 2512.0\n",
      "Vulume is 7598.8 and Area is 2141.48\n"
     ]
    }
   ],
   "source": [
    "#write a program to find volume n surface arfea of cylinder\n",
    "class Cylinder():\n",
    "    pi=3.14\n",
    "    def __init__(Self,radius=1,height=1):\n",
    "        Self.radius=radius\n",
    "        Self.height=height\n",
    "        ##now we are defining dunder method or magic method\n",
    "        ## __str__>> this is dunder method if we want to print something while printing object we can ovewrride this method \n",
    "        ## as toString() in java.....\n",
    "    def __str__(Self):\n",
    "        Self.Volume=Cylinder.pi*((Self.radius)**2)*(Self.height)\n",
    "        Self.area=(2*Cylinder.pi*Self.radius*Self.height)+(2*Cylinder.pi*(Self.radius **2))\n",
    "        return f\"Vulume is {Self.Volume} and Area is {Self.area}\"\n",
    "cy = Cylinder(10,30)\n",
    "cy1 = Cylinder(11,20)\n",
    "print(cy)\n",
    "print(cy1)"
   ]
  },
  {
   "cell_type": "code",
   "execution_count": 38,
   "id": "f6a1f783",
   "metadata": {},
   "outputs": [
    {
     "name": "stdout",
     "output_type": "stream",
     "text": [
      "Owner: Tauquir ,Balance : 1000 \n",
      "Owner: Shabbar ,Balance : 20000 \n",
      "Owner: Tauquir ,Balance : 800 \n",
      "Owner: Tauquir ,Balance : 800 \n",
      "Owner: Shabbar ,Balance : 19500 \n"
     ]
    }
   ],
   "source": [
    "#wap a pragram for bank deposit n withbhdrawl with authentication\n",
    "class Bank():\n",
    "\n",
    "    def __init__(Self,owner,balance):\n",
    "        Self.owner=owner\n",
    "        Self.balance=balance\n",
    "    def __str__(Self):\n",
    "        return f\"Owner: {Self.owner} ,Balance : {Self.balance} \"\n",
    "    def deposit(Self,dep_am):\n",
    "        Self.dep_am=dep_am\n",
    "        Self.balance+=Self.dep_am\n",
    "        return f\"Amount deposited: {Self.balance} successfully!!\"\n",
    "    def withdraw(Self,with_am):\n",
    "        Self.with_am=with_am\n",
    "        if Self.balance>= Self.with_am:\n",
    "            Self.balance-=Self.with_am\n",
    "            return f\"Amount withdrawn: {Self.with_am} successfully!!\"\n",
    "        else:\n",
    "            return f\"Insufficient fund!! Sorry could not withdraw\"\n",
    "b = Bank(\"Tauquir\",1000)\n",
    "b1 = Bank(\"Shabbar\",20000)\n",
    "print(b)\n",
    "print(b1)\n",
    "b.withdraw(200)\n",
    "print(b)\n",
    "b.withdraw(10000)\n",
    "print(b)\n",
    "b1.withdraw(500)\n",
    "print(b1)\n",
    "\n"
   ]
  }
 ],
 "metadata": {
  "kernelspec": {
   "display_name": "Python 3 (ipykernel)",
   "language": "python",
   "name": "python3"
  },
  "language_info": {
   "codemirror_mode": {
    "name": "ipython",
    "version": 3
   },
   "file_extension": ".py",
   "mimetype": "text/x-python",
   "name": "python",
   "nbconvert_exporter": "python",
   "pygments_lexer": "ipython3",
   "version": "3.9.12"
  }
 },
 "nbformat": 4,
 "nbformat_minor": 5
}
