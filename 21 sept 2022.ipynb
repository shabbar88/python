{
 "cells": [
  {
   "cell_type": "markdown",
   "id": "431e11bb",
   "metadata": {},
   "source": [
    "# Learning about set \n"
   ]
  },
  {
   "cell_type": "code",
   "execution_count": 1,
   "id": "1c7ea7f8",
   "metadata": {},
   "outputs": [
    {
     "name": "stdout",
     "output_type": "stream",
     "text": [
      "{'u', 'y', 'q', 't', 'e', 'r', 'a'}\n",
      "{'u', 'y', 'q', 't', 'e', 'r', 'a'}\n",
      "['u', 'y', 'q', 't', 'e', 'r', 'a']\n",
      "['a', 'e', 'q', 'r', 't', 'u', 'y']\n",
      "['y', 'u', 't', 'r', 'q', 'e', 'a']\n"
     ]
    }
   ],
   "source": [
    "name = \"tauqyurrrrrrrrrrrrrrrrrrtree\"\n",
    "# we will convert string into set so that they conain unique value\n",
    "#then we will convert set into list so that we can do sorting\n",
    "print(set(name))\n",
    "\n",
    "#converting string into set\n",
    "my_set = set(name)\n",
    "print(my_set)\n",
    "\n",
    "#set to list\n",
    "my_list = list(my_set)\n",
    "print(my_list)\n",
    "\n",
    "# sorting of list in default order i.e asc\n",
    "my_list.sort()\n",
    "print(my_list)\n",
    "\n",
    "# sorting des \n",
    "my_list.sort(reverse=True)\n",
    "print(my_list)\n",
    "\n",
    "\n",
    "\n",
    "\n"
   ]
  },
  {
   "cell_type": "markdown",
   "id": "30c970a2",
   "metadata": {},
   "source": [
    "# TUPLES>>they r similar to list but they r immutable.once element is inside tuple it cannot be reassigned.\n"
   ]
  },
  {
   "cell_type": "code",
   "execution_count": 14,
   "id": "d2069b00",
   "metadata": {},
   "outputs": [
    {
     "name": "stdout",
     "output_type": "stream",
     "text": [
      "('python', 'sql', 'excel', '..many more')\n",
      "python\n",
      "1\n",
      "0\n",
      "('..many more', 'excel', 'sql', 'python')\n",
      "('python', 'sql', 'excel', '..many more')\n"
     ]
    }
   ],
   "source": [
    "mission = (\"python\",\"sql\",\"excel\",\"..many more\")\n",
    "print(mission)\n",
    "print(mission[0])\n",
    "\n",
    "# here is the proof that tuple cannot have reassignment......\n",
    "# it has 2 methods i.e index() n count()\n",
    "print(mission.count(\"python\")) # no of times particular thing is present\n",
    "print(mission.index(\"python\")) # it tells index of particular stuff..\n",
    "# slicing tuples\n",
    "z = mission[::]\n",
    "v = mission[::-1]\n",
    "print(v)\n",
    "print(z)"
   ]
  },
  {
   "cell_type": "markdown",
   "id": "2c8e61b3",
   "metadata": {},
   "source": [
    "# now we will talk about dictionary>>>Dictionaries r keyvalue pairs.. we can retrieve dictionary using keys"
   ]
  },
  {
   "cell_type": "code",
   "execution_count": 34,
   "id": "dd9951aa",
   "metadata": {},
   "outputs": [
    {
     "name": "stdout",
     "output_type": "stream",
     "text": [
      "dict_keys(['Afridi', 'Sachin', 'Lara'])\n",
      "dict_values([80000, 20000, 16000])\n",
      "dict_items([('Afridi', 80000), ('Sachin', 20000), ('Lara', 16000)])\n",
      "Afridi 80000\n",
      "Sachin 20000\n",
      "Lara 16000\n",
      "This is my key no 1: Afridi\n",
      "This is my key no 2: Sachin\n",
      "This is my key no 3: Lara\n",
      "This is my value no 1: 80000\n",
      "This is my value no 2: 20000\n",
      "This is my value no 3: 16000\n"
     ]
    }
   ],
   "source": [
    "player = {\"Afridi\":80000,\"Sachin\":20000,\"Lara\":16000}\n",
    "print(player.keys())\n",
    "print(player.values())\n",
    "print(player.items())\n",
    "# this is the way we retrieve complete dictionary\n",
    "for key,val in player.items():\n",
    "    print(key,val)\n",
    "index = 1\n",
    "for k in player.keys():\n",
    "    print(\"This is my key no {}: {}\".format(index,k))\n",
    "    index+=1\n",
    "index_ = 1\n",
    "for v in player.values():\n",
    "     print(\"This is my value no {}: {}\".format(index_,v))\n",
    "     index_ +=1\n",
    "    "
   ]
  },
  {
   "cell_type": "code",
   "execution_count": null,
   "id": "418131eb",
   "metadata": {},
   "outputs": [],
   "source": [
    " x = int(input(\"enter number.......\"))\n",
    " "
   ]
  },
  {
   "cell_type": "code",
   "execution_count": 10,
   "id": "c606131f",
   "metadata": {},
   "outputs": [
    {
     "name": "stdout",
     "output_type": "stream",
     "text": [
      "[1, 2, [3, 4, 'hello']]\n",
      "[1, 2, 3, 4, 'hello']\n",
      "hello\n"
     ]
    }
   ],
   "source": [
    "list3 = [1,2,[3,4,'hello']]\n",
    "print(list3)\n",
    "segment1 = list3[2]\n",
    "segment2 = list3[0:2]\n",
    "final = []\n",
    "final = segment2 + segment1\n",
    "print(final)\n",
    "d = {'k1':{'k2':'hello'}}\n",
    "print(d['k1']['k2'])\n",
    "\n"
   ]
  },
  {
   "cell_type": "markdown",
   "id": "63050794",
   "metadata": {},
   "source": [
    "# Range Function Exploration"
   ]
  },
  {
   "cell_type": "code",
   "execution_count": 16,
   "id": "edb244c9",
   "metadata": {},
   "outputs": [
    {
     "name": "stdout",
     "output_type": "stream",
     "text": [
      "1\n",
      "2\n",
      "3\n",
      "4\n",
      "5\n",
      "6\n",
      "7\n",
      "8\n",
      "9\n",
      "10\n",
      "11\n",
      "12\n",
      "13\n",
      "14\n",
      "15\n",
      "16\n",
      "17\n",
      "18\n",
      "19\n",
      "20\n",
      "21\n",
      "22\n",
      "23\n",
      "24\n",
      "25\n",
      "26\n",
      "27\n",
      "28\n",
      "29\n",
      "30\n",
      "31\n",
      "32\n",
      "33\n",
      "34\n",
      "35\n",
      "36\n",
      "37\n",
      "38\n",
      "39\n",
      "40\n",
      "41\n",
      "42\n",
      "43\n",
      "44\n",
      "45\n",
      "46\n",
      "47\n",
      "48\n",
      "49\n",
      "50\n",
      "51\n",
      "52\n",
      "53\n",
      "54\n",
      "55\n",
      "56\n",
      "57\n",
      "58\n",
      "59\n",
      "60\n",
      "61\n",
      "62\n",
      "63\n",
      "64\n",
      "65\n",
      "66\n",
      "67\n",
      "68\n",
      "69\n",
      "70\n",
      "71\n",
      "72\n",
      "73\n",
      "74\n",
      "75\n",
      "76\n",
      "77\n",
      "78\n",
      "79\n",
      "80\n",
      "81\n",
      "82\n",
      "83\n",
      "84\n",
      "85\n",
      "86\n",
      "87\n",
      "88\n",
      "89\n",
      "90\n",
      "91\n",
      "92\n",
      "93\n",
      "94\n",
      "95\n",
      "96\n",
      "97\n",
      "98\n",
      "99\n",
      "100\n",
      "[2, 4, 6, 8, 10, 12, 14, 16, 18, 20, 22, 24, 26, 28, 30, 32, 34, 36, 38, 40, 42, 44, 46, 48, 50, 52, 54, 56, 58, 60, 62, 64, 66, 68, 70, 72, 74, 76, 78, 80, 82, 84, 86, 88, 90, 92, 94, 96, 98, 100]\n"
     ]
    }
   ],
   "source": [
    "for x in range(1,101):\n",
    "    print(x)\n",
    "z = list(range(2,101,2))\n",
    "print(z)\n",
    "#start , stop, step........"
   ]
  },
  {
   "cell_type": "code",
   "execution_count": 27,
   "id": "137a5659",
   "metadata": {},
   "outputs": [
    {
     "name": "stdout",
     "output_type": "stream",
     "text": [
      "Letter at index 0 is T\n",
      "Letter at index 0 is T\n",
      "Letter at index 1 is A\n",
      "Letter at index 1 is A\n",
      "Letter at index 2 is U\n",
      "Letter at index 2 is U\n",
      "Letter at index 3 is Q\n",
      "Letter at index 3 is Q\n",
      "Letter at index 4 is U\n",
      "Letter at index 4 is U\n",
      "Letter at index 5 is I\n",
      "Letter at index 5 is I\n",
      "Letter at index 6 is R\n",
      "Letter at index 6 is R\n"
     ]
    }
   ],
   "source": [
    "your_name = \"TAUQUIR\"\n",
    "index = 0\n",
    "for x in your_name:\n",
    "    print(f'Letter at index {index} is {x}') # using f-string\n",
    "    print(\"Letter at index {} is {}\".format(index,x)) # using .format\n",
    "    index+=1\n",
    "    "
   ]
  },
  {
   "cell_type": "markdown",
   "id": "06c4c524",
   "metadata": {},
   "source": [
    "# LIST COMPREHENSION\n"
   ]
  },
  {
   "cell_type": "code",
   "execution_count": 31,
   "id": "836aeb6c",
   "metadata": {},
   "outputs": [
    {
     "name": "stdout",
     "output_type": "stream",
     "text": [
      "[0, 2, 4, 6, 8, 10, 12, 14, 16, 18, 20, 22, 24, 26, 28, 30, 32, 34, 36, 38, 40, 42, 44, 46, 48, 50, 52, 54, 56, 58, 60, 62, 64, 66, 68, 70, 72, 74, 76, 78, 80, 82, 84, 86, 88, 90, 92, 94, 96, 98, 100]\n",
      "[0, 2, 4, 6, 8, 10, 12, 14, 16, 18, 20, 22, 24, 26, 28, 30, 32, 34, 36, 38, 40, 42, 44, 46, 48, 50, 52, 54, 56, 58, 60, 62, 64, 66, 68, 70, 72, 74, 76, 78, 80, 82, 84, 86, 88, 90, 92, 94, 96, 98, 100]\n"
     ]
    }
   ],
   "source": [
    "mylist = [x for x in range(0,101,2)]\n",
    "print(mylist)\n",
    "mylist1 = [x  for x in range(0,101) if x%2==0]\n",
    "print(mylist1)\n"
   ]
  }
 ],
 "metadata": {
  "kernelspec": {
   "display_name": "Python 3 (ipykernel)",
   "language": "python",
   "name": "python3"
  },
  "language_info": {
   "codemirror_mode": {
    "name": "ipython",
    "version": 3
   },
   "file_extension": ".py",
   "mimetype": "text/x-python",
   "name": "python",
   "nbconvert_exporter": "python",
   "pygments_lexer": "ipython3",
   "version": "3.9.12"
  }
 },
 "nbformat": 4,
 "nbformat_minor": 5
}
